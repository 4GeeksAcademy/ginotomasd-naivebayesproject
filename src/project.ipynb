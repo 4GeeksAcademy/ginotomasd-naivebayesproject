{
    "cells": [
        {
            "cell_type": "markdown",
            "metadata": {},
            "source": [
                "# Naive Bayes Project "
            ]
        },
        {
            "cell_type": "markdown",
            "metadata": {},
            "source": [
                "## Importing libraries"
            ]
        },
        {
            "cell_type": "code",
            "execution_count": null,
            "metadata": {},
            "outputs": [],
            "source": [
                "import pandas as pd\n",
                "from sklearn.model_selection import train_test_split\n",
                "from sklearn.feature_extraction.text import CountVectorizer\n",
                "from sklearn.naive_bayes import MultinomialNB, BernoulliNB, GaussianNB\n",
                "from sklearn.metrics import accuracy_score, classification_report\n",
                "from sklearn.ensemble import RandomForestClassifier\n",
                "import joblib\n",
                "import os\n",
                "from sklearn.linear_model import LogisticRegression\n"
            ]
        },
        {
            "cell_type": "markdown",
            "metadata": {},
            "source": [
                "## Loading the dataset"
            ]
        },
        {
            "cell_type": "markdown",
            "metadata": {},
            "source": [
                "> We will proceed with loading the dataset, inspecting its shape and printing some of the first rows to check that everything was loaded correctly. "
            ]
        },
        {
            "cell_type": "code",
            "execution_count": 3,
            "metadata": {},
            "outputs": [
                {
                    "name": "stdout",
                    "output_type": "stream",
                    "text": [
                        "Dataset shape: (891, 3)\n",
                        "          package_name                                             review  \\\n",
                        "0  com.facebook.katana   privacy at least put some option appear offli...   \n",
                        "1  com.facebook.katana   messenger issues ever since the last update, ...   \n",
                        "2  com.facebook.katana   profile any time my wife or anybody has more ...   \n",
                        "3  com.facebook.katana   the new features suck for those of us who don...   \n",
                        "4  com.facebook.katana   forced reload on uploading pic on replying co...   \n",
                        "\n",
                        "   polarity  \n",
                        "0         0  \n",
                        "1         0  \n",
                        "2         0  \n",
                        "3         0  \n",
                        "4         0  \n"
                    ]
                }
            ],
            "source": [
                "url = \"https://raw.githubusercontent.com/4GeeksAcademy/naive-bayes-project-tutorial/main/playstore_reviews.csv\"\n",
                "df = pd.read_csv(url)\n",
                "\n",
                "print(\"Dataset shape:\", df.shape)\n",
                "print(df.head())"
            ]
        },
        {
            "cell_type": "markdown",
            "metadata": {},
            "source": [
                "> We can see that the dataset was loaded successfully. It contains 891 rows and 3 columns. All the reviews and polarity ratings have been successfully loaded."
            ]
        },
        {
            "cell_type": "markdown",
            "metadata": {},
            "source": [
                "## Preprocessing data"
            ]
        },
        {
            "cell_type": "markdown",
            "metadata": {},
            "source": [
                "> As the project instructions state, we'll need to drop the ***package_name*** variable, since it's irrelevant for our analysis here. "
            ]
        },
        {
            "cell_type": "code",
            "execution_count": 4,
            "metadata": {},
            "outputs": [
                {
                    "name": "stdout",
                    "output_type": "stream",
                    "text": [
                        "Columns after dropping 'package_name': ['review', 'polarity']\n"
                    ]
                }
            ],
            "source": [
                "df = df.drop('package_name', axis=1)\n",
                "\n",
                "# Checking that everything works:\n",
                "print(\"Columns after dropping 'package_name':\", df.columns.tolist())"
            ]
        },
        {
            "cell_type": "markdown",
            "metadata": {},
            "source": [
                "> Now that's working, so we'll proceed with the standardization of the review text. We'll remove extra spaces and convert everything to lower cases. This will make our analysis job easier. "
            ]
        },
        {
            "cell_type": "code",
            "execution_count": 5,
            "metadata": {},
            "outputs": [
                {
                    "name": "stdout",
                    "output_type": "stream",
                    "text": [
                        "First 5 reviews after cleaning:\n",
                        "Review 1: 'privacy at least put some option appear offline. i mean for some people like me it's a big pressure to be seen online like you need to response on every message or else you be called seenzone only. if only i wanna do on facebook is to read on my newsfeed and just wanna response on message i want to. pls reconsidered my review. i tried to turn off chat but still can see me as online.'\n",
                        "Review 2: 'messenger issues ever since the last update, initial received messages don't get pushed to the messenger app and you don't get notification in the facebook app or messenger app. you open the facebook app and happen to see you have a message. you have to click the icon and it opens messenger. subsequent messages go through messenger app, unless you close the chat head... then you start over with no notification and having to go through the facebook app.'\n",
                        "Review 3: 'profile any time my wife or anybody has more than one post and i view them it would take me to there profile so that i can view them all at once. now when i try to view them it tells me that the page that i requested is not available. i've restarted my phone i even cleard the cache and i've uninstalled and reinstalled the app and it is still doing it. please fix it thank you'\n",
                        "Review 4: 'the new features suck for those of us who don't have a working back button can you guys make the videos able to be slid to the left to exit the video. as i have to force close facebook to exit'\n",
                        "Review 5: 'forced reload on uploading pic on replying comment last night i tried to reply a comment by uploading a photo from my phone. when i press on the button to select photos the app automatically goes back to the main page. on other occasions, i could enter to my gallery to select my image but as soon as i selected an image and press done, the program, again, forced reload and suddenly go back to the main page. please fix this and i will change my rating. thank you.'\n",
                        "\n",
                        "All text is cleaned (lowercase, stripped).\n"
                    ]
                }
            ],
            "source": [
                "df['review'] = df['review'].str.strip().str.lower()\n",
                "\n",
                "# Checking that everything works\n",
                "print(\"First 5 reviews after cleaning:\")\n",
                "for i, text in enumerate(df['review'].head()):\n",
                "    print(f\"Review {i+1}: '{text}'\")\n",
                "    assert text == text.strip()   # Should have no leading/trailing spaces\n",
                "    assert text == text.lower()   # Should be all lowercase\n",
                "print(\"\\nAll text is cleaned (lowercase, stripped).\")"
            ]
        },
        {
            "cell_type": "markdown",
            "metadata": {},
            "source": [
                "> We'll proceed with the definition of predictor and target variables. For our case, the reviews are the predictor and the polarity, our target. "
            ]
        },
        {
            "cell_type": "code",
            "execution_count": 6,
            "metadata": {},
            "outputs": [],
            "source": [
                "X = df['review']\n",
                "y = df['polarity']"
            ]
        },
        {
            "cell_type": "markdown",
            "metadata": {},
            "source": [
                "> After doing that, we'll split the dataset into training and test sets, preparing everything for our models, as per project instructions. "
            ]
        },
        {
            "cell_type": "code",
            "execution_count": 7,
            "metadata": {},
            "outputs": [
                {
                    "name": "stdout",
                    "output_type": "stream",
                    "text": [
                        "Train set size: 712\n",
                        "Test set size: 179\n"
                    ]
                }
            ],
            "source": [
                "X_train, X_test, y_train, y_test = train_test_split(\n",
                "    X, y, test_size=0.2, random_state=42, stratify=y\n",
                ")\n",
                "\n",
                "# Checking that everything works\n",
                "print(\"Train set size:\", X_train.shape[0])\n",
                "print(\"Test set size:\", X_test.shape[0])"
            ]
        },
        {
            "cell_type": "markdown",
            "metadata": {},
            "source": [
                "> Next, using Bag-of-Words, we transform the text into a count matrix, using the training set to fit the transformer and the test set to apply it."
            ]
        },
        {
            "cell_type": "code",
            "execution_count": 8,
            "metadata": {},
            "outputs": [
                {
                    "name": "stdout",
                    "output_type": "stream",
                    "text": [
                        "Train vectorized shape: (712, 3272)\n",
                        "Test vectorized shape: (179, 3272)\n"
                    ]
                }
            ],
            "source": [
                "vec_model = CountVectorizer(stop_words=\"english\")\n",
                "X_train_vec = vec_model.fit_transform(X_train).toarray()\n",
                "X_test_vec = vec_model.transform(X_test).toarray()\n",
                "\n",
                "# Checking that everything works\n",
                "print(\"Train vectorized shape:\", X_train_vec.shape)\n",
                "print(\"Test vectorized shape:\", X_test_vec.shape)\n"
            ]
        },
        {
            "cell_type": "markdown",
            "metadata": {},
            "source": [
                "## Training and evaluating Naive Bayes models"
            ]
        },
        {
            "cell_type": "markdown",
            "metadata": {},
            "source": [
                "> For this project, I've decided I'm going to try first with MultinomialNB, because it is recommended for text data, which we are using here. Logically makes sense. "
            ]
        },
        {
            "cell_type": "code",
            "execution_count": 11,
            "metadata": {},
            "outputs": [
                {
                    "name": "stdout",
                    "output_type": "stream",
                    "text": [
                        "MultinomialNB accuracy: 0.8547486033519553\n",
                        "\n",
                        "\n",
                        "              precision    recall  f1-score   support\n",
                        "\n",
                        "           0       0.84      0.96      0.90       117\n",
                        "           1       0.89      0.66      0.76        62\n",
                        "\n",
                        "    accuracy                           0.85       179\n",
                        "   macro avg       0.87      0.81      0.83       179\n",
                        "weighted avg       0.86      0.85      0.85       179\n",
                        "\n"
                    ]
                }
            ],
            "source": [
                "# MultinomialNB\n",
                "nb_m = MultinomialNB()\n",
                "nb_m.fit(X_train_vec, y_train)\n",
                "y_pred_m = nb_m.predict(X_test_vec)\n",
                "print(\"MultinomialNB accuracy:\", accuracy_score(y_test, y_pred_m))\n",
                "print('\\n')\n",
                "print(classification_report(y_test, y_pred_m))"
            ]
        },
        {
            "cell_type": "markdown",
            "metadata": {},
            "source": [
                "> After running it, we can see that using MultinomialNB gives us an accuracy of ***0.8547486033519553***\n",
                "\n",
                "> This looks pretty good, but we'll test the other two (BernoulliNB & GaussianNB), to see if we get better results"
            ]
        },
        {
            "cell_type": "code",
            "execution_count": null,
            "metadata": {},
            "outputs": [
                {
                    "name": "stdout",
                    "output_type": "stream",
                    "text": [
                        "BernoulliNB accuracy: 0.7821229050279329\n",
                        "\n",
                        "\n",
                        "              precision    recall  f1-score   support\n",
                        "\n",
                        "           0       0.76      0.97      0.85       117\n",
                        "           1       0.87      0.44      0.58        62\n",
                        "\n",
                        "    accuracy                           0.78       179\n",
                        "   macro avg       0.82      0.70      0.72       179\n",
                        "weighted avg       0.80      0.78      0.76       179\n",
                        "\n"
                    ]
                }
            ],
            "source": [
                "# BernoulliNB\n",
                "nb_b = BernoulliNB()\n",
                "nb_b.fit(X_train_vec, y_train)\n",
                "y_pred_b = nb_b.predict(X_test_vec)\n",
                "print(\"BernoulliNB accuracy:\", accuracy_score(y_test, y_pred_b))\n",
                "print('\\n')\n",
                "print(classification_report(y_test, y_pred_b))"
            ]
        },
        {
            "cell_type": "code",
            "execution_count": 14,
            "metadata": {},
            "outputs": [
                {
                    "name": "stdout",
                    "output_type": "stream",
                    "text": [
                        "GaussianNB accuracy: 0.8156424581005587\n",
                        "\n",
                        "\n",
                        "              precision    recall  f1-score   support\n",
                        "\n",
                        "           0       0.84      0.89      0.86       117\n",
                        "           1       0.76      0.68      0.72        62\n",
                        "\n",
                        "    accuracy                           0.82       179\n",
                        "   macro avg       0.80      0.78      0.79       179\n",
                        "weighted avg       0.81      0.82      0.81       179\n",
                        "\n"
                    ]
                }
            ],
            "source": [
                "# GaussianNB\n",
                "nb_g = GaussianNB()\n",
                "nb_g.fit(X_train_vec, y_train)\n",
                "y_pred_g = nb_g.predict(X_test_vec)\n",
                "print(\"GaussianNB accuracy:\", accuracy_score(y_test, y_pred_g))\n",
                "print('\\n')\n",
                "print(classification_report(y_test, y_pred_g))\n"
            ]
        },
        {
            "cell_type": "markdown",
            "metadata": {},
            "source": [
                "> As expected, the other models don't get much accurate than the first one. It is the model that suits best this case study. "
            ]
        },
        {
            "cell_type": "markdown",
            "metadata": {},
            "source": [
                "## Random Forest as an alternative"
            ]
        },
        {
            "cell_type": "markdown",
            "metadata": {},
            "source": [
                "> As requested, we'll try using the Random Forest model to see if we get better results than the MultinomialNB, which has an accuracy of 0.8547486033519553"
            ]
        },
        {
            "cell_type": "code",
            "execution_count": 15,
            "metadata": {},
            "outputs": [
                {
                    "name": "stdout",
                    "output_type": "stream",
                    "text": [
                        "Random Forest accuracy: 0.8212290502793296\n",
                        "\n",
                        "\n",
                        "              precision    recall  f1-score   support\n",
                        "\n",
                        "           0       0.83      0.91      0.87       117\n",
                        "           1       0.79      0.66      0.72        62\n",
                        "\n",
                        "    accuracy                           0.82       179\n",
                        "   macro avg       0.81      0.78      0.79       179\n",
                        "weighted avg       0.82      0.82      0.82       179\n",
                        "\n"
                    ]
                }
            ],
            "source": [
                "rf = RandomForestClassifier(random_state=42, n_jobs=-1)\n",
                "rf.fit(X_train_vec, y_train)\n",
                "y_pred_rf = rf.predict(X_test_vec)\n",
                "print(\"Random Forest accuracy:\", accuracy_score(y_test, y_pred_rf))\n",
                "print('\\n')\n",
                "print(classification_report(y_test, y_pred_rf))"
            ]
        },
        {
            "cell_type": "markdown",
            "metadata": {},
            "source": [
                "> We conclude the analysis with the results of the Random Forest model. We can see that the accuracy is ***0.8212290502793296***, which positions it as the second best model to use, in this scenario, meaning it has ***NOT*** improved the previous model, so we will stick with MultinomialNB"
            ]
        },
        {
            "cell_type": "markdown",
            "metadata": {},
            "source": [
                "## Saving the models"
            ]
        },
        {
            "cell_type": "markdown",
            "metadata": {},
            "source": [
                "> One of the last steps, saving the models. Pretty straighforward."
            ]
        },
        {
            "cell_type": "code",
            "execution_count": null,
            "metadata": {},
            "outputs": [],
            "source": [
                "os.makedirs('models', exist_ok=True)\n",
                "joblib.dump(nb_m, 'models/best_naive_bayes.pkl')\n",
                "joblib.dump(rf, 'models/random_forest_vec.pkl')\n",
                "print(\"Models saved to 'models/' directory.\")"
            ]
        },
        {
            "cell_type": "markdown",
            "metadata": {},
            "source": [
                "## Trying Logistic Regression"
            ]
        },
        {
            "cell_type": "markdown",
            "metadata": {},
            "source": [
                "> As the last step of this project, it requires us to try with one last model: ***Logistical Regression***\n",
                "\n",
                "> So let's do it and see what are the results."
            ]
        },
        {
            "cell_type": "code",
            "execution_count": 16,
            "metadata": {},
            "outputs": [
                {
                    "name": "stdout",
                    "output_type": "stream",
                    "text": [
                        "Logistic Regression accuracy: 0.8324022346368715\n",
                        "              precision    recall  f1-score   support\n",
                        "\n",
                        "           0       0.86      0.89      0.87       117\n",
                        "           1       0.78      0.73      0.75        62\n",
                        "\n",
                        "    accuracy                           0.83       179\n",
                        "   macro avg       0.82      0.81      0.81       179\n",
                        "weighted avg       0.83      0.83      0.83       179\n",
                        "\n"
                    ]
                }
            ],
            "source": [
                "lr = LogisticRegression(max_iter=1000)\n",
                "lr.fit(X_train_vec, y_train)\n",
                "y_pred_lr = lr.predict(X_test_vec)\n",
                "print(\"Logistic Regression accuracy:\", accuracy_score(y_test, y_pred_lr))\n",
                "print(classification_report(y_test, y_pred_lr))"
            ]
        },
        {
            "cell_type": "markdown",
            "metadata": {},
            "source": [
                "> FINALLY! Our results came in! We can see that the accuracy of this model is ***0.8324022346368715***, which positions it as the SECOND best performing model and takiing the Random Forest's place, putting it in third place."
            ]
        },
        {
            "cell_type": "markdown",
            "metadata": {},
            "source": [
                "> With this we conclude this project."
            ]
        }
    ],
    "metadata": {
        "kernelspec": {
            "display_name": "Python 3",
            "language": "python",
            "name": "python3"
        },
        "language_info": {
            "codemirror_mode": {
                "name": "ipython",
                "version": 3
            },
            "file_extension": ".py",
            "mimetype": "text/x-python",
            "name": "python",
            "nbconvert_exporter": "python",
            "pygments_lexer": "ipython3",
            "version": "3.11.4"
        },
        "orig_nbformat": 4
    },
    "nbformat": 4,
    "nbformat_minor": 2
}
